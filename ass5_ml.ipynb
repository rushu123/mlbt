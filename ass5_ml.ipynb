{
 "cells": [
  {
   "cell_type": "code",
   "execution_count": 1,
   "id": "bbab87ba-3ca6-40b5-9c9a-0423a74f9a04",
   "metadata": {},
   "outputs": [],
   "source": [
    "import pandas as pd\n",
    "import numpy as np\n",
    "import seaborn as sns\n",
    "import matplotlib.pyplot as plt\n",
    "%matplotlib inline\n",
    "import warnings\n",
    "warnings.filterwarnings('ignore')\n",
    "from sklearn.model_selection import train_test_split\n",
    "from sklearn.svm import SVC\n",
    "from sklearn import metrics"
   ]
  },
  {
   "cell_type": "code",
   "execution_count": 2,
   "id": "184d0dd9-3cd4-48ce-bd71-0d46a6072298",
   "metadata": {
    "scrolled": true
   },
   "outputs": [
    {
     "data": {
      "text/html": [
       "<div>\n",
       "<style scoped>\n",
       "    .dataframe tbody tr th:only-of-type {\n",
       "        vertical-align: middle;\n",
       "    }\n",
       "\n",
       "    .dataframe tbody tr th {\n",
       "        vertical-align: top;\n",
       "    }\n",
       "\n",
       "    .dataframe thead th {\n",
       "        text-align: right;\n",
       "    }\n",
       "</style>\n",
       "<table border=\"1\" class=\"dataframe\">\n",
       "  <thead>\n",
       "    <tr style=\"text-align: right;\">\n",
       "      <th></th>\n",
       "      <th>Email No.</th>\n",
       "      <th>the</th>\n",
       "      <th>to</th>\n",
       "      <th>ect</th>\n",
       "      <th>and</th>\n",
       "      <th>for</th>\n",
       "      <th>of</th>\n",
       "      <th>a</th>\n",
       "      <th>you</th>\n",
       "      <th>hou</th>\n",
       "      <th>...</th>\n",
       "      <th>connevey</th>\n",
       "      <th>jay</th>\n",
       "      <th>valued</th>\n",
       "      <th>lay</th>\n",
       "      <th>infrastructure</th>\n",
       "      <th>military</th>\n",
       "      <th>allowing</th>\n",
       "      <th>ff</th>\n",
       "      <th>dry</th>\n",
       "      <th>Prediction</th>\n",
       "    </tr>\n",
       "  </thead>\n",
       "  <tbody>\n",
       "    <tr>\n",
       "      <th>0</th>\n",
       "      <td>Email 1</td>\n",
       "      <td>0</td>\n",
       "      <td>0</td>\n",
       "      <td>1</td>\n",
       "      <td>0</td>\n",
       "      <td>0</td>\n",
       "      <td>0</td>\n",
       "      <td>2</td>\n",
       "      <td>0</td>\n",
       "      <td>0</td>\n",
       "      <td>...</td>\n",
       "      <td>0</td>\n",
       "      <td>0</td>\n",
       "      <td>0</td>\n",
       "      <td>0</td>\n",
       "      <td>0</td>\n",
       "      <td>0</td>\n",
       "      <td>0</td>\n",
       "      <td>0</td>\n",
       "      <td>0</td>\n",
       "      <td>0</td>\n",
       "    </tr>\n",
       "    <tr>\n",
       "      <th>1</th>\n",
       "      <td>Email 2</td>\n",
       "      <td>8</td>\n",
       "      <td>13</td>\n",
       "      <td>24</td>\n",
       "      <td>6</td>\n",
       "      <td>6</td>\n",
       "      <td>2</td>\n",
       "      <td>102</td>\n",
       "      <td>1</td>\n",
       "      <td>27</td>\n",
       "      <td>...</td>\n",
       "      <td>0</td>\n",
       "      <td>0</td>\n",
       "      <td>0</td>\n",
       "      <td>0</td>\n",
       "      <td>0</td>\n",
       "      <td>0</td>\n",
       "      <td>0</td>\n",
       "      <td>1</td>\n",
       "      <td>0</td>\n",
       "      <td>0</td>\n",
       "    </tr>\n",
       "    <tr>\n",
       "      <th>2</th>\n",
       "      <td>Email 3</td>\n",
       "      <td>0</td>\n",
       "      <td>0</td>\n",
       "      <td>1</td>\n",
       "      <td>0</td>\n",
       "      <td>0</td>\n",
       "      <td>0</td>\n",
       "      <td>8</td>\n",
       "      <td>0</td>\n",
       "      <td>0</td>\n",
       "      <td>...</td>\n",
       "      <td>0</td>\n",
       "      <td>0</td>\n",
       "      <td>0</td>\n",
       "      <td>0</td>\n",
       "      <td>0</td>\n",
       "      <td>0</td>\n",
       "      <td>0</td>\n",
       "      <td>0</td>\n",
       "      <td>0</td>\n",
       "      <td>0</td>\n",
       "    </tr>\n",
       "    <tr>\n",
       "      <th>3</th>\n",
       "      <td>Email 4</td>\n",
       "      <td>0</td>\n",
       "      <td>5</td>\n",
       "      <td>22</td>\n",
       "      <td>0</td>\n",
       "      <td>5</td>\n",
       "      <td>1</td>\n",
       "      <td>51</td>\n",
       "      <td>2</td>\n",
       "      <td>10</td>\n",
       "      <td>...</td>\n",
       "      <td>0</td>\n",
       "      <td>0</td>\n",
       "      <td>0</td>\n",
       "      <td>0</td>\n",
       "      <td>0</td>\n",
       "      <td>0</td>\n",
       "      <td>0</td>\n",
       "      <td>0</td>\n",
       "      <td>0</td>\n",
       "      <td>0</td>\n",
       "    </tr>\n",
       "    <tr>\n",
       "      <th>4</th>\n",
       "      <td>Email 5</td>\n",
       "      <td>7</td>\n",
       "      <td>6</td>\n",
       "      <td>17</td>\n",
       "      <td>1</td>\n",
       "      <td>5</td>\n",
       "      <td>2</td>\n",
       "      <td>57</td>\n",
       "      <td>0</td>\n",
       "      <td>9</td>\n",
       "      <td>...</td>\n",
       "      <td>0</td>\n",
       "      <td>0</td>\n",
       "      <td>0</td>\n",
       "      <td>0</td>\n",
       "      <td>0</td>\n",
       "      <td>0</td>\n",
       "      <td>0</td>\n",
       "      <td>1</td>\n",
       "      <td>0</td>\n",
       "      <td>0</td>\n",
       "    </tr>\n",
       "  </tbody>\n",
       "</table>\n",
       "<p>5 rows × 3002 columns</p>\n",
       "</div>"
      ],
      "text/plain": [
       "  Email No.  the  to  ect  and  for  of    a  you  hou  ...  connevey  jay  \\\n",
       "0   Email 1    0   0    1    0    0   0    2    0    0  ...         0    0   \n",
       "1   Email 2    8  13   24    6    6   2  102    1   27  ...         0    0   \n",
       "2   Email 3    0   0    1    0    0   0    8    0    0  ...         0    0   \n",
       "3   Email 4    0   5   22    0    5   1   51    2   10  ...         0    0   \n",
       "4   Email 5    7   6   17    1    5   2   57    0    9  ...         0    0   \n",
       "\n",
       "   valued  lay  infrastructure  military  allowing  ff  dry  Prediction  \n",
       "0       0    0               0         0         0   0    0           0  \n",
       "1       0    0               0         0         0   1    0           0  \n",
       "2       0    0               0         0         0   0    0           0  \n",
       "3       0    0               0         0         0   0    0           0  \n",
       "4       0    0               0         0         0   1    0           0  \n",
       "\n",
       "[5 rows x 3002 columns]"
      ]
     },
     "execution_count": 2,
     "metadata": {},
     "output_type": "execute_result"
    }
   ],
   "source": [
    "df=pd.read_csv('emails.csv')\n",
    "df.head()"
   ]
  },
  {
   "cell_type": "code",
   "execution_count": 3,
   "id": "58dbaa7c-9ed5-402d-a182-4765c6448297",
   "metadata": {},
   "outputs": [
    {
     "data": {
      "text/plain": [
       "(5172, 3002)"
      ]
     },
     "execution_count": 3,
     "metadata": {},
     "output_type": "execute_result"
    }
   ],
   "source": [
    "df.shape"
   ]
  },
  {
   "cell_type": "code",
   "execution_count": 4,
   "id": "d3d0aa86-871a-45bd-83ac-d2a3d580d679",
   "metadata": {},
   "outputs": [
    {
     "data": {
      "text/plain": [
       "Index(['Email No.', 'the', 'to', 'ect', 'and', 'for', 'of', 'a', 'you', 'hou',\n",
       "       ...\n",
       "       'connevey', 'jay', 'valued', 'lay', 'infrastructure', 'military',\n",
       "       'allowing', 'ff', 'dry', 'Prediction'],\n",
       "      dtype='object', length=3002)"
      ]
     },
     "execution_count": 4,
     "metadata": {},
     "output_type": "execute_result"
    }
   ],
   "source": [
    "df.columns"
   ]
  },
  {
   "cell_type": "code",
   "execution_count": 5,
   "id": "696149ca-3302-4b7b-aac9-b83aa8046c08",
   "metadata": {},
   "outputs": [
    {
     "data": {
      "text/plain": [
       "Email No.     0\n",
       "the           0\n",
       "to            0\n",
       "ect           0\n",
       "and           0\n",
       "             ..\n",
       "military      0\n",
       "allowing      0\n",
       "ff            0\n",
       "dry           0\n",
       "Prediction    0\n",
       "Length: 3002, dtype: int64"
      ]
     },
     "execution_count": 5,
     "metadata": {},
     "output_type": "execute_result"
    }
   ],
   "source": [
    "df.isnull().sum()"
   ]
  },
  {
   "cell_type": "code",
   "execution_count": 6,
   "id": "fe645873-0a4d-46ee-904f-0fec81ade180",
   "metadata": {},
   "outputs": [
    {
     "name": "stdout",
     "output_type": "stream",
     "text": [
      "<class 'pandas.core.frame.DataFrame'>\n",
      "RangeIndex: 5172 entries, 0 to 5171\n",
      "Columns: 3002 entries, Email No. to Prediction\n",
      "dtypes: int64(3001), object(1)\n",
      "memory usage: 118.5+ MB\n"
     ]
    }
   ],
   "source": [
    "df.info()"
   ]
  },
  {
   "cell_type": "code",
   "execution_count": 7,
   "id": "c36cc24c-acf8-4508-91b0-b2774e896e91",
   "metadata": {},
   "outputs": [],
   "source": [
    "df.drop(['Email No.'],axis=1,inplace=True)\n",
    "X = df.drop(['Prediction'],axis = 1)\n",
    "y = df['Prediction']"
   ]
  },
  {
   "cell_type": "code",
   "execution_count": 8,
   "id": "db957e9f-890e-4693-8719-8b75ceb1cc20",
   "metadata": {},
   "outputs": [],
   "source": [
    "from sklearn.preprocessing import scale\n",
    "X = scale(X)\n",
    "# split into train and test\n",
    "X_train, X_test, y_train, y_test = train_test_split(X, y, test_size = 0.3, random_state = 42)"
   ]
  },
  {
   "cell_type": "code",
   "execution_count": 10,
   "id": "843ee25f-b68a-43f5-bb77-19098365ea73",
   "metadata": {},
   "outputs": [],
   "source": [
    "from sklearn.neighbors import KNeighborsClassifier\n",
    "knn = KNeighborsClassifier(n_neighbors=6)\n",
    "knn.fit(X_train, y_train)\n",
    "y_pred = knn.predict(X_test)"
   ]
  },
  {
   "cell_type": "code",
   "execution_count": 11,
   "id": "52bb128b-1ff8-4818-8b97-df45efd35d39",
   "metadata": {},
   "outputs": [
    {
     "name": "stdout",
     "output_type": "stream",
     "text": [
      "Prediction [0 0 1 ... 0 1 1]\n"
     ]
    }
   ],
   "source": [
    "print(\"Prediction\",y_pred)"
   ]
  },
  {
   "cell_type": "code",
   "execution_count": 12,
   "id": "bd2e9fa2-014c-4fba-adfc-c007a07c5e1c",
   "metadata": {},
   "outputs": [
    {
     "name": "stdout",
     "output_type": "stream",
     "text": [
      "KNN accuracy =  0.8337628865979382\n"
     ]
    }
   ],
   "source": [
    "print(\"KNN accuracy = \",metrics.accuracy_score(y_test,y_pred))"
   ]
  },
  {
   "cell_type": "code",
   "execution_count": 13,
   "id": "c50eafc0-e29c-4ea8-9c44-2d7359d224a9",
   "metadata": {},
   "outputs": [
    {
     "name": "stdout",
     "output_type": "stream",
     "text": [
      "Confusion matrix [[867 230]\n",
      " [ 28 427]]\n"
     ]
    }
   ],
   "source": [
    "print(\"Confusion matrix\",metrics.confusion_matrix(y_test,y_pred))"
   ]
  },
  {
   "cell_type": "code",
   "execution_count": 14,
   "id": "05bde594-9ea5-4333-ab7a-ed797efc96dd",
   "metadata": {},
   "outputs": [],
   "source": [
    "# cost C = 1\n",
    "model = SVC(C = 1)\n",
    "\n",
    "# fit\n",
    "model.fit(X_train, y_train)\n",
    "\n",
    "# predict\n",
    "y_pred = model.predict(X_test)"
   ]
  },
  {
   "cell_type": "code",
   "execution_count": 15,
   "id": "657b7536-000e-4eee-bd3d-007f6b17f12d",
   "metadata": {},
   "outputs": [
    {
     "data": {
      "text/plain": [
       "array([[1091,    6],\n",
       "       [  90,  365]], dtype=int64)"
      ]
     },
     "execution_count": 15,
     "metadata": {},
     "output_type": "execute_result"
    }
   ],
   "source": [
    "metrics.confusion_matrix(y_true=y_test, y_pred=y_pred)"
   ]
  },
  {
   "cell_type": "code",
   "execution_count": 16,
   "id": "452423d6-5061-4db2-8064-00d3a37761fe",
   "metadata": {},
   "outputs": [
    {
     "name": "stdout",
     "output_type": "stream",
     "text": [
      "SVM accuracy =  0.9381443298969072\n"
     ]
    }
   ],
   "source": [
    "print(\"SVM accuracy = \",metrics.accuracy_score(y_test,y_pred))"
   ]
  },
  {
   "cell_type": "code",
   "execution_count": 17,
   "id": "96625753-6625-4d8c-bd4b-2c32f21d652e",
   "metadata": {},
   "outputs": [],
   "source": [
    "from sklearn.svm import SVC\n",
    "from sklearn.svm import LinearSVC\n",
    "from sklearn.metrics import accuracy_score\n",
    "import math\n",
    "import time"
   ]
  },
  {
   "cell_type": "code",
   "execution_count": 18,
   "id": "2ad8e8a8-5786-4610-9ea8-2a304e91e463",
   "metadata": {},
   "outputs": [
    {
     "name": "stdout",
     "output_type": "stream",
     "text": [
      "74.5 %\n",
      "45.12777 sec\n"
     ]
    }
   ],
   "source": [
    "start = time.time()\n",
    "model = SVC(kernel='poly',C=2)\n",
    "model.fit(X_train, y_train)\n",
    "pred = model.predict(X_test)\n",
    "acc = accuracy_score(y_test, pred)\n",
    "print(round(acc*100,1), '%')\n",
    "end = time.time()\n",
    "\n",
    "print(f\"{end - start:.5f} sec\")"
   ]
  },
  {
   "cell_type": "code",
   "execution_count": 19,
   "id": "d4539bc9-f871-444f-b7a3-277c9c114377",
   "metadata": {},
   "outputs": [
    {
     "name": "stdout",
     "output_type": "stream",
     "text": [
      "94.8 %\n",
      "33.59084 sec\n"
     ]
    }
   ],
   "source": [
    "start = time.time()\n",
    "model = SVC(kernel='rbf',C=2)\n",
    "model.fit(X_train, y_train)\n",
    "pred = model.predict(X_test)\n",
    "acc = accuracy_score(y_test, pred)\n",
    "print(round(acc*100,1), '%')\n",
    "end = time.time()\n",
    "\n",
    "print(f\"{end - start:.5f} sec\")"
   ]
  },
  {
   "cell_type": "code",
   "execution_count": 20,
   "id": "4b001421-c046-4487-9e98-246bcbce1c57",
   "metadata": {},
   "outputs": [
    {
     "name": "stdout",
     "output_type": "stream",
     "text": [
      "91.2 %\n",
      "16.90418 sec\n"
     ]
    }
   ],
   "source": [
    "start = time.time()\n",
    "model = SVC(kernel='sigmoid',C=2)\n",
    "model.fit(X_train, y_train)\n",
    "pred = model.predict(X_test)\n",
    "acc = accuracy_score(y_test, pred)\n",
    "print(round(acc*100,1), '%')\n",
    "end = time.time()\n",
    "\n",
    "print(f\"{end - start:.5f} sec\")"
   ]
  },
  {
   "cell_type": "code",
   "execution_count": 21,
   "id": "bc35f34a-3027-42c8-85ca-da219baaabb0",
   "metadata": {},
   "outputs": [
    {
     "name": "stdout",
     "output_type": "stream",
     "text": [
      "93.1 %\n",
      "12.54088 sec\n"
     ]
    }
   ],
   "source": [
    "start = time.time()\n",
    "model = LinearSVC(C=2)\n",
    "model.fit(X_train, y_train)\n",
    "pred = model.predict(X_test)\n",
    "acc = accuracy_score(y_test, pred)\n",
    "print(round(acc*100,1), '%')\n",
    "end = time.time()\n",
    "\n",
    "print(f\"{end - start:.5f} sec\")"
   ]
  },
  {
   "cell_type": "code",
   "execution_count": 22,
   "id": "a69e2461-f5cb-4cf8-93f9-2a89d3868c56",
   "metadata": {},
   "outputs": [],
   "source": [
    "from sklearn.preprocessing import MinMaxScaler\n",
    "x = df.drop('Prediction', axis=1)\n",
    "y = df['Prediction']\n",
    "\n",
    "scaler=MinMaxScaler()\n",
    "x=scaler.fit_transform(x)\n",
    "\n",
    "X_train, X_test, y_train, y_test = train_test_split(x,y , test_size = 0.2, random_state = 100)"
   ]
  },
  {
   "cell_type": "code",
   "execution_count": 23,
   "id": "1f9b8aca-27bd-4826-8c67-44775e4f671e",
   "metadata": {},
   "outputs": [
    {
     "name": "stdout",
     "output_type": "stream",
     "text": [
      "======poly======\n",
      "78.3 %\n",
      "49.34075 sec\n",
      "=======rbf=======\n",
      "94.5 %\n",
      "31.74508 sec\n",
      "=====sigmoid=====\n",
      "81.5 %\n",
      "13.91112 sec\n",
      "=====LinearSVC=====\n",
      "97.1 %\n",
      "0.41700 sec\n"
     ]
    }
   ],
   "source": [
    "print('======poly======')\n",
    "start = time.time()\n",
    "model = SVC(kernel='poly',C=3)\n",
    "model.fit(X_train, y_train)\n",
    "pred = model.predict(X_test)\n",
    "acc = accuracy_score(y_test, pred)\n",
    "print(round(acc*100,1), '%')\n",
    "end = time.time()\n",
    "\n",
    "print(f\"{end - start:.5f} sec\")\n",
    "print('=======rbf=======')\n",
    "\n",
    "start = time.time()\n",
    "model = SVC(kernel='rbf',C=3)\n",
    "model.fit(X_train, y_train)\n",
    "pred = model.predict(X_test)\n",
    "acc = accuracy_score(y_test, pred)\n",
    "print(round(acc*100,1), '%')\n",
    "end = time.time()\n",
    "\n",
    "print(f\"{end - start:.5f} sec\")\n",
    "print('=====sigmoid=====')\n",
    "\n",
    "start = time.time()\n",
    "model = SVC(kernel='sigmoid',C=3)\n",
    "model.fit(X_train, y_train)\n",
    "pred = model.predict(X_test)\n",
    "acc = accuracy_score(y_test, pred)\n",
    "print(round(acc*100,1), '%')\n",
    "end = time.time()\n",
    "\n",
    "print(f\"{end - start:.5f} sec\")\n",
    "print('=====LinearSVC=====')\n",
    "\n",
    "start = time.time()\n",
    "model = LinearSVC(C=3)\n",
    "model.fit(X_train, y_train)\n",
    "pred = model.predict(X_test)\n",
    "acc = accuracy_score(y_test, pred)\n",
    "print(round(acc*100,1), '%')\n",
    "end = time.time()\n",
    "\n",
    "print(f\"{end - start:.5f} sec\")"
   ]
  },
  {
   "cell_type": "code",
   "execution_count": 24,
   "id": "eaca6743-b10d-4e5c-8db6-9e0faeb2af75",
   "metadata": {},
   "outputs": [],
   "source": [
    "from sklearn.preprocessing import RobustScaler\n",
    "x = df.drop('Prediction', axis=1)\n",
    "y = df['Prediction']\n",
    "\n",
    "scaler=RobustScaler()\n",
    "x=scaler.fit_transform(x)\n",
    "\n",
    "X_train, X_test, y_train, y_test = train_test_split(x,y , test_size = 0.2, random_state = 100)"
   ]
  },
  {
   "cell_type": "code",
   "execution_count": 25,
   "id": "947fea8a-233b-49c5-8efb-62de2a7953c7",
   "metadata": {},
   "outputs": [
    {
     "name": "stdout",
     "output_type": "stream",
     "text": [
      "======poly======\n",
      "77.7 %\n",
      "36.61046 sec\n",
      "=======rbf=======\n",
      "96.3 %\n",
      "25.96988 sec\n",
      "=====sigmoid=====\n",
      "72.9 %\n",
      "23.43524 sec\n",
      "=====LinearSVC=====\n",
      "95.0 %\n",
      "0.59826 sec\n"
     ]
    }
   ],
   "source": [
    "print('======poly======')\n",
    "start = time.time()\n",
    "model = SVC(kernel='poly')\n",
    "model.fit(X_train, y_train)\n",
    "pred = model.predict(X_test)\n",
    "acc = accuracy_score(y_test, pred)\n",
    "print(round(acc*100,1), '%')\n",
    "end = time.time()\n",
    "\n",
    "print(f\"{end - start:.5f} sec\")\n",
    "print('=======rbf=======')\n",
    "\n",
    "start = time.time()\n",
    "model = SVC(kernel='rbf',C=2)\n",
    "model.fit(X_train, y_train)\n",
    "pred = model.predict(X_test)\n",
    "acc = accuracy_score(y_test, pred)\n",
    "print(round(acc*100,1), '%')\n",
    "end = time.time()\n",
    "\n",
    "print(f\"{end - start:.5f} sec\")\n",
    "print('=====sigmoid=====')\n",
    "\n",
    "start = time.time()\n",
    "model = SVC(kernel='sigmoid')\n",
    "model.fit(X_train, y_train)\n",
    "pred = model.predict(X_test)\n",
    "acc = accuracy_score(y_test, pred)\n",
    "print(round(acc*100,1), '%')\n",
    "end = time.time()\n",
    "\n",
    "print(f\"{end - start:.5f} sec\")\n",
    "print('=====LinearSVC=====')\n",
    "\n",
    "start = time.time()\n",
    "model = LinearSVC(C=2)\n",
    "model.fit(X_train, y_train)\n",
    "pred = model.predict(X_test)\n",
    "acc = accuracy_score(y_test, pred)\n",
    "print(round(acc*100,1), '%')\n",
    "end = time.time()\n",
    "\n",
    "print(f\"{end - start:.5f} sec\")"
   ]
  },
  {
   "cell_type": "code",
   "execution_count": 26,
   "id": "eab09b03-8a99-4ee1-9f4e-42b313654f1d",
   "metadata": {},
   "outputs": [],
   "source": [
    "from sklearn.preprocessing import StandardScaler\n",
    "x = df.drop('Prediction', axis=1)\n",
    "y = df['Prediction']\n",
    "\n",
    "scaler=StandardScaler()\n",
    "x=scaler.fit_transform(x)\n",
    "\n",
    "X_train, X_test, y_train, y_test = train_test_split(x,y , test_size = 0.2, random_state = 100)"
   ]
  },
  {
   "cell_type": "code",
   "execution_count": 27,
   "id": "011698dd-597d-4872-b114-e9326d12ceaa",
   "metadata": {},
   "outputs": [
    {
     "name": "stdout",
     "output_type": "stream",
     "text": [
      "======poly======\n",
      "76.0 %\n",
      "49.61491 sec\n",
      "=======rbf=======\n",
      "93.7 %\n",
      "36.15648 sec\n",
      "=====sigmoid=====\n",
      "90.7 %\n",
      "21.93345 sec\n",
      "=====LinearSVC=====\n",
      "92.6 %\n",
      "14.04416 sec\n"
     ]
    }
   ],
   "source": [
    "print('======poly======')\n",
    "start = time.time()\n",
    "model = SVC(kernel='poly')\n",
    "model.fit(X_train, y_train)\n",
    "pred = model.predict(X_test)\n",
    "acc = accuracy_score(y_test, pred)\n",
    "print(round(acc*100,1), '%')\n",
    "end = time.time()\n",
    "\n",
    "print(f\"{end - start:.5f} sec\")\n",
    "print('=======rbf=======')\n",
    "\n",
    "start = time.time()\n",
    "model = SVC(kernel='rbf')\n",
    "model.fit(X_train, y_train)\n",
    "pred = model.predict(X_test)\n",
    "acc = accuracy_score(y_test, pred)\n",
    "print(round(acc*100,1), '%')\n",
    "end = time.time()\n",
    "\n",
    "print(f\"{end - start:.5f} sec\")\n",
    "print('=====sigmoid=====')\n",
    "\n",
    "start = time.time()\n",
    "model = SVC(kernel='sigmoid')\n",
    "model.fit(X_train, y_train)\n",
    "pred = model.predict(X_test)\n",
    "acc = accuracy_score(y_test, pred)\n",
    "print(round(acc*100,1), '%')\n",
    "end = time.time()\n",
    "\n",
    "print(f\"{end - start:.5f} sec\")\n",
    "print('=====LinearSVC=====')\n",
    "\n",
    "start = time.time()\n",
    "model = LinearSVC()\n",
    "model.fit(X_train, y_train)\n",
    "pred = model.predict(X_test)\n",
    "acc = accuracy_score(y_test, pred)\n",
    "print(round(acc*100,1), '%')\n",
    "end = time.time()\n",
    "\n",
    "print(f\"{end - start:.5f} sec\")"
   ]
  },
  {
   "cell_type": "code",
   "execution_count": null,
   "id": "6a1eef85-eda5-4eba-8dd1-7ae9ad874d6a",
   "metadata": {},
   "outputs": [],
   "source": []
  }
 ],
 "metadata": {
  "kernelspec": {
   "display_name": "Python 3 (ipykernel)",
   "language": "python",
   "name": "python3"
  },
  "language_info": {
   "codemirror_mode": {
    "name": "ipython",
    "version": 3
   },
   "file_extension": ".py",
   "mimetype": "text/x-python",
   "name": "python",
   "nbconvert_exporter": "python",
   "pygments_lexer": "ipython3",
   "version": "3.10.2"
  }
 },
 "nbformat": 4,
 "nbformat_minor": 5
}
